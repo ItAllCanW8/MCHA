{
 "cells": [
  {
   "cell_type": "code",
   "execution_count": 5,
   "metadata": {},
   "outputs": [],
   "source": [
    "import numpy as np\n",
    "\n",
    "coreMatrix = np.array([[5.554, 0.252, 0.496, 0.237],\n",
    "                       [0.580, 4.953, 0.467, 0.028],\n",
    "                       [0.319, 0.372, 8.935, 0.520],\n",
    "                       [0.043, 0.459, 0.319, 4.778]])\n",
    "\n",
    "freeMembers = np.array([[0.442], [0.464], [0.979], [0.126]])"
   ]
  },
  {
   "cell_type": "markdown",
   "metadata": {},
   "source": [
    "Задание I."
   ]
  },
  {
   "cell_type": "code",
   "execution_count": 6,
   "metadata": {},
   "outputs": [
    {
     "name": "stdout",
     "output_type": "stream",
     "text": [
      "[0.06800826 0.07675849 0.10342544 0.01156268]\n"
     ]
    }
   ],
   "source": [
    "def gauss_method(coreMatrix, freeMembers):\n",
    "    concMatrix = np.concatenate((coreMatrix, freeMembers), axis=1)\n",
    "\n",
    "    for i in range(coreMatrix.shape[1]):\n",
    "        j = i\n",
    "\n",
    "        selRow = concMatrix[j]\n",
    "\n",
    "        for i in range(j + 1, concMatrix.shape[0]):\n",
    "            concMatrix[i] -= selRow * concMatrix[i, j] / concMatrix[j, j]\n",
    "\n",
    "    x = np.zeros(concMatrix.shape[1] - 1)\n",
    "\n",
    "    for i in reversed(range(concMatrix.shape[0])):\n",
    "        for j in reversed(range(i, concMatrix.shape[1] - 1)):\n",
    "            concMatrix[i] -= x[j] * concMatrix[i, j]\n",
    "\n",
    "        concMatrix[i] /= concMatrix[i, i]\n",
    "        x[i] = concMatrix[i, -1] / concMatrix[i, i]\n",
    "\n",
    "    return x\n",
    "\n",
    "print(gauss_method(coreMatrix, freeMembers))"
   ]
  },
  {
   "cell_type": "code",
   "execution_count": 7,
   "metadata": {},
   "outputs": [
    {
     "name": "stdout",
     "output_type": "stream",
     "text": [
      "[0.06640598 0.07609387 0.10335724 0.01156268]\n"
     ]
    }
   ],
   "source": [
    "def gauss_jordan_method(coreMatrix, freeMembers):\n",
    "    concMatrix = np.concatenate((coreMatrix, freeMembers), axis=1)\n",
    "\n",
    "    for i in range(coreMatrix.shape[1]):\n",
    "        j = i\n",
    "\n",
    "        selRow = concMatrix[j] / concMatrix[j, j]\n",
    "        concMatrix[j] = selRow\n",
    "\n",
    "        for i in range(j):\n",
    "            concMatrix[i] -= selRow * concMatrix[i, j]\n",
    "\n",
    "        for i in range(j + 1, concMatrix.shape[0]):\n",
    "            concMatrix[i] -= selRow * concMatrix[i, j]\n",
    "\n",
    "    return concMatrix[:, 4]\n",
    "\n",
    "print(gauss_jordan_method(coreMatrix, freeMembers))"
   ]
  },
  {
   "cell_type": "code",
   "execution_count": 11,
   "metadata": {},
   "outputs": [
    {
     "name": "stdout",
     "output_type": "stream",
     "text": [
      "[[0.06634421 0.07601978 0.10330396 0.01149752]]\n"
     ]
    }
   ],
   "source": [
    "def jacobi_method(coreMatrix, freeMembers, eps):\n",
    "    x = np.zeros(coreMatrix.shape[0])\n",
    "\n",
    "    nextX = (freeMembers.T - (np.matmul(coreMatrix, x.T).T - coreMatrix.diagonal() * x)) / coreMatrix.diagonal()\n",
    "\n",
    "    i = 1\n",
    "\n",
    "    while i < 300 and np.max(np.abs((nextX - x))) > eps:\n",
    "        x = nextX\n",
    "        nextX = (freeMembers.T - (\n",
    "                    np.matmul(coreMatrix, x.T).T - coreMatrix.diagonal() * x)) / coreMatrix.diagonal()\n",
    "\n",
    "    return nextX\n",
    "\n",
    "print(jacobi_method(coreMatrix, freeMembers, 1e-3))"
   ]
  },
  {
   "cell_type": "code",
   "execution_count": 12,
   "metadata": {},
   "outputs": [
    {
     "name": "stdout",
     "output_type": "stream",
     "text": [
      "[0.06639818 0.076089   0.10335811 0.01156316]\n"
     ]
    }
   ],
   "source": [
    "def gauss_seidel_method(coreMatrix, freeMembers, eps):\n",
    "    x = np.zeros(coreMatrix.shape[0])\n",
    "\n",
    "    temp = np.copy(x)\n",
    "\n",
    "    for i in range(coreMatrix.shape[0]):\n",
    "        temp[i] = (freeMembers[i] - np.matmul(coreMatrix[i], temp .T) + coreMatrix[i, i] * temp [i]) / coreMatrix[i, i]\n",
    "\n",
    "    nextX = temp\n",
    "\n",
    "    i = 1\n",
    "\n",
    "    while i < 300 and np.max(np.abs((nextX - x))) > eps:\n",
    "        x = nextX\n",
    "\n",
    "        temp = np.copy(x)\n",
    "        for i in range(coreMatrix.shape[0]):\n",
    "            temp[i] = (freeMembers[i] - np.matmul(coreMatrix[i], temp.T) + coreMatrix[i, i] * temp[i]) / coreMatrix[i, i]\n",
    "\n",
    "        nextX = temp\n",
    "\n",
    "    return nextX\n",
    "\n",
    "print(gauss_seidel_method(coreMatrix, freeMembers, 1e-3))"
   ]
  },
  {
   "cell_type": "markdown",
   "metadata": {},
   "source": [
    "Задание II."
   ]
  },
  {
   "cell_type": "code",
   "execution_count": 13,
   "metadata": {},
   "outputs": [
    {
     "name": "stdout",
     "output_type": "stream",
     "text": [
      "[[0.06640598 0.07609387 0.10335724 0.01156268]]\n"
     ]
    }
   ],
   "source": [
    "def conjugate_gradient_method(coreMatrix, freeMembers, eps):\n",
    "    x = np.zeros(coreMatrix.shape[0])\n",
    "    z = r = freeMembers.T - np.matmul(coreMatrix, x.T)\n",
    "\n",
    "    i = 1\n",
    "\n",
    "    while i < 300 and np.max(np.abs(r)) > eps:\n",
    "        alpha = np.matmul(r, r.T) / np.matmul(np.matmul(coreMatrix, z.T).T, z.T)\n",
    "\n",
    "        nextX = x + alpha * z\n",
    "        nextR = r - alpha * np.matmul(coreMatrix, z.T).T\n",
    "\n",
    "        beta = np.matmul(nextR, nextR.T) / np.matmul(r, r.T)\n",
    "\n",
    "        nextZ = nextR + beta * z\n",
    "\n",
    "        x = nextX\n",
    "        r = nextR\n",
    "        z = nextZ\n",
    "\n",
    "    return x\n",
    "\n",
    "print(conjugate_gradient_method(coreMatrix, freeMembers, 1e-9))"
   ]
  },
  {
   "cell_type": "markdown",
   "metadata": {},
   "source": [
    "Задание III. "
   ]
  },
  {
   "cell_type": "code",
   "execution_count": 25,
   "metadata": {},
   "outputs": [
    {
     "name": "stdout",
     "output_type": "stream",
     "text": [
      "H:\n",
      "[[1.     0.5    0.3333]\n",
      " [0.5    0.3333 0.25  ]\n",
      " [0.3333 0.25   0.2   ]]\n",
      "H^-1:\n",
      "[[  10.5   -41.75   34.75]\n",
      " [ -41.75  222.25 -208.5 ]\n",
      " [  34.75 -208.5   208.25]]\n",
      "(H^-1)^-1:\n",
      "[[0.897  0.4624 0.3132]\n",
      " [0.4624 0.3124 0.2356]\n",
      " [0.3132 0.2356 0.1884]]\n",
      "\n",
      "L-norm: 0.1607\n"
     ]
    }
   ],
   "source": [
    "def determinant(hilbert):\n",
    "    det = 0\n",
    "\n",
    "    if len(hilbert) == 2:\n",
    "        return round(hilbert[0][0] * hilbert[1][1] - hilbert[0][1] * hilbert[1][0], 4)\n",
    "\n",
    "    for c in range(len(hilbert)):\n",
    "        det += round((((-1) ** c) * hilbert[0][c] * determinant(minor(hilbert, 0, c))), 4)\n",
    "\n",
    "    return det\n",
    "\n",
    "\n",
    "def minor(hilbert, i, j):\n",
    "    minor = np.array([row[:j] + row[j + 1:]\n",
    "                      for row in (hilbert[:i] + hilbert[i + 1:])])\n",
    "\n",
    "    return minor\n",
    "\n",
    "\n",
    "def inverse(hilbert):\n",
    "    inv = [[(((-1) ** (r + c)) * determinant(minor(hilbert, r, c)))\n",
    "            for c in range(len(hilbert))]\n",
    "           for r in range(len(hilbert))]\n",
    "\n",
    "    for i in range(len(inv)):\n",
    "        for j in range(len(inv)):\n",
    "            inv[i][j] = round(inv[i][j] / determinant(hilbert), 4)\n",
    "\n",
    "    return inv\n",
    "\n",
    "\n",
    "def hilbert(n):\n",
    "    hilbert = [[round(1 / (i + j + 1), 4) for j in range(n)] for i in range(n)]\n",
    "\n",
    "    print(\"H:\")\n",
    "    print(np.array(hilbert))\n",
    "    \n",
    "    hilbertInv = inverse(hilbert)\n",
    "    hilbertInvInv = inverse(hilbertInv)\n",
    "\n",
    "    print(\"H^-1:\")\n",
    "    print(np.array(hilbertInv))\n",
    "    \n",
    "    print(\"(H^-1)^-1:\")\n",
    "    print(np.array(hilbertInvInv))\n",
    "\n",
    "    difference = np.array(hilbert) - np.array(hilbertInvInv)\n",
    "\n",
    "    norm = 0\n",
    "\n",
    "    for j in range(len(difference)):\n",
    "        norm += difference[0][j]\n",
    "        \n",
    "    for i in range(1, len(difference)):\n",
    "        \n",
    "        temp = 0\n",
    "        \n",
    "        for j in range(len(difference)):\n",
    "            temp += difference[i][j]\n",
    "\n",
    "        norm = max(norm, temp)\n",
    "    \n",
    "    print(\"\")\n",
    "    print(\"L-norm: \" + str(norm))\n",
    "\n",
    "          \n",
    "hilbert(3)"
   ]
  },
  {
   "cell_type": "code",
   "execution_count": 33,
   "metadata": {},
   "outputs": [
    {
     "name": "stdout",
     "output_type": "stream",
     "text": [
      "Gauss:                     [0.06800826 0.07675849 0.10342544 0.01156268]\n",
      "Gauss Jordan:              [0.06640598 0.07609387 0.10335724 0.01156268]\n",
      "Jacobi (1e-3):            [[0.06634421 0.07601978 0.10330396 0.01149752]]\n",
      "Gauss Seidel (1e-3):       [0.06639818 0.076089   0.10335811 0.01156316]\n",
      "Conjugate gradient (1e-3):[[0.06638226 0.07614913 0.10333829 0.01159617]]\n",
      "\n",
      "Hilbert\n",
      "H:\n",
      "[[1.     0.5    0.3333]\n",
      " [0.5    0.3333 0.25  ]\n",
      " [0.3333 0.25   0.2   ]]\n",
      "H^-1:\n",
      "[[  10.5   -41.75   34.75]\n",
      " [ -41.75  222.25 -208.5 ]\n",
      " [  34.75 -208.5   208.25]]\n",
      "(H^-1)^-1:\n",
      "[[0.897  0.4624 0.3132]\n",
      " [0.4624 0.3124 0.2356]\n",
      " [0.3132 0.2356 0.1884]]\n",
      "\n",
      "L-norm: 0.1607\n"
     ]
    }
   ],
   "source": [
    "print(\"Gauss:                     \" + str(gauss_method(coreMatrix, freeMembers)))\n",
    "print(\"Gauss Jordan:              \" + str(gauss_jordan_method(coreMatrix, freeMembers)))\n",
    "print(\"Jacobi (1e-3):            \" + str(jacobi_method(coreMatrix, freeMembers, 1e-3)))\n",
    "print(\"Gauss Seidel (1e-3):       \" + str(gauss_seidel_method(coreMatrix, freeMembers, 1e-3)))\n",
    "print(\"Conjugate gradient (1e-3):\" + str(conjugate_gradient_method(coreMatrix, freeMembers, 1e-3)))\n",
    "print(\"\")\n",
    "print(\"Hilbert\")\n",
    "hilbert(3)"
   ]
  },
  {
   "cell_type": "code",
   "execution_count": null,
   "metadata": {},
   "outputs": [],
   "source": []
  }
 ],
 "metadata": {
  "kernelspec": {
   "display_name": "Python 3",
   "language": "python",
   "name": "python3"
  },
  "language_info": {
   "codemirror_mode": {
    "name": "ipython",
    "version": 3
   },
   "file_extension": ".py",
   "mimetype": "text/x-python",
   "name": "python",
   "nbconvert_exporter": "python",
   "pygments_lexer": "ipython3",
   "version": "3.8.1"
  }
 },
 "nbformat": 4,
 "nbformat_minor": 4
}
